from flask import Flask,request,render_template
app = Flask(__name__)
@app.route("/",methods=["GET","POST"])

def index():
    return(render_template("hugging face-ethical test.html"))

    
if __name__ == "__main__":
    app.run()
